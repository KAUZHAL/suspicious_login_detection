{
  "cells": [
    {
      "cell_type": "markdown",
      "metadata": {
        "id": "view-in-github",
        "colab_type": "text"
      },
      "source": [
        "<a href=\"https://colab.research.google.com/github/KAUZHAL/nisproject/blob/main/Nisproject.ipynb\" target=\"_parent\"><img src=\"https://colab.research.google.com/assets/colab-badge.svg\" alt=\"Open In Colab\"/></a>"
      ]
    },
    {
      "cell_type": "code",
      "execution_count": null,
      "metadata": {
        "colab": {
          "base_uri": "https://localhost:8080/"
        },
        "id": "CZ6tmkZldYQp",
        "outputId": "765225ee-d8e2-4f34-9ff1-7b3a6b719ca7"
      },
      "outputs": [
        {
          "output_type": "stream",
          "name": "stdout",
          "text": [
            "Requirement already satisfied: pandas in /usr/local/lib/python3.11/dist-packages (2.2.2)\n",
            "Requirement already satisfied: numpy in /usr/local/lib/python3.11/dist-packages (2.0.2)\n",
            "Requirement already satisfied: scikit-learn in /usr/local/lib/python3.11/dist-packages (1.6.1)\n",
            "Requirement already satisfied: joblib in /usr/local/lib/python3.11/dist-packages (1.4.2)\n",
            "Requirement already satisfied: python-dateutil>=2.8.2 in /usr/local/lib/python3.11/dist-packages (from pandas) (2.9.0.post0)\n",
            "Requirement already satisfied: pytz>=2020.1 in /usr/local/lib/python3.11/dist-packages (from pandas) (2025.2)\n",
            "Requirement already satisfied: tzdata>=2022.7 in /usr/local/lib/python3.11/dist-packages (from pandas) (2025.2)\n",
            "Requirement already satisfied: scipy>=1.6.0 in /usr/local/lib/python3.11/dist-packages (from scikit-learn) (1.14.1)\n",
            "Requirement already satisfied: threadpoolctl>=3.1.0 in /usr/local/lib/python3.11/dist-packages (from scikit-learn) (3.6.0)\n",
            "Requirement already satisfied: six>=1.5 in /usr/local/lib/python3.11/dist-packages (from python-dateutil>=2.8.2->pandas) (1.17.0)\n"
          ]
        }
      ],
      "source": [
        "!pip install pandas numpy scikit-learn joblib\n"
      ]
    },
    {
      "cell_type": "markdown",
      "source": [
        "# DATASET"
      ],
      "metadata": {
        "id": "x7JJALph5M5x"
      }
    },
    {
      "cell_type": "code",
      "source": [
        "import pandas as pd\n",
        "data = pd.read_csv(\"nisdataset.csv\")\n",
        "print(\"First 5 rows of the dataset:\")\n",
        "print(data.head())"
      ],
      "metadata": {
        "colab": {
          "base_uri": "https://localhost:8080/"
        },
        "id": "rB-JEBLm5QJV",
        "outputId": "aed9bf69-6fc2-4f9e-8f27-ca747d5fa485"
      },
      "execution_count": null,
      "outputs": [
        {
          "output_type": "stream",
          "name": "stdout",
          "text": [
            "First 5 rows of the dataset:\n",
            "  session_id  network_packet_size protocol_type  login_attempts  \\\n",
            "0  SID_00001                  599           TCP               4   \n",
            "1  SID_00002                  472           TCP               3   \n",
            "2  SID_00003                  629           TCP               3   \n",
            "3  SID_00004                  804           UDP               4   \n",
            "4  SID_00005                  453           TCP               5   \n",
            "\n",
            "   session_duration encryption_used  ip_reputation_score  failed_logins  \\\n",
            "0        492.983263             DES             0.606818              1   \n",
            "1       1557.996461             DES             0.301569              0   \n",
            "2         75.044262             DES             0.739164              2   \n",
            "3        601.248835             DES             0.123267              0   \n",
            "4        532.540888             AES             0.054874              1   \n",
            "\n",
            "  browser_type  unusual_time_access  attack_detected  \n",
            "0         Edge                    0                1  \n",
            "1      Firefox                    0                0  \n",
            "2       Chrome                    0                1  \n",
            "3      Unknown                    0                1  \n",
            "4      Firefox                    0                0  \n"
          ]
        }
      ]
    },
    {
      "cell_type": "code",
      "execution_count": null,
      "metadata": {
        "colab": {
          "base_uri": "https://localhost:8080/"
        },
        "id": "T04IR4Ymh3i4",
        "outputId": "834b886f-b523-402a-c8cf-c4edbfc45f4f"
      },
      "outputs": [
        {
          "output_type": "execute_result",
          "data": {
            "text/plain": [
              "['.config', 'nisdataset.csv', 'sample_data']"
            ]
          },
          "metadata": {},
          "execution_count": 4
        }
      ],
      "source": [
        "import os\n",
        "os.listdir('/content')"
      ]
    },
    {
      "cell_type": "markdown",
      "source": [
        "# **Show Precision Using Graph for SVM, Decision Tree, Random Forest**"
      ],
      "metadata": {
        "id": "jzQUS1sf_DZD"
      }
    },
    {
      "cell_type": "code",
      "source": [
        "#importing things that required\n",
        "import os\n",
        "import joblib\n",
        "import pandas as pd\n",
        "import matplotlib.pyplot as plt\n",
        "import seaborn as sns\n",
        "from sklearn.model_selection import train_test_split\n",
        "from sklearn.preprocessing import OneHotEncoder, StandardScaler # for categorical string data , for standardizing values\n",
        "from sklearn.compose import ColumnTransformer # for differentiating string from numeric data\n",
        "from sklearn.pipeline import Pipeline # for saving and using the model again\n",
        "from sklearn.svm import SVC\n",
        "from sklearn.tree import DecisionTreeClassifier\n",
        "from sklearn.ensemble import RandomForestClassifier\n",
        "from sklearn.metrics import accuracy_score, precision_score, recall_score, f1_score\n",
        "\n",
        "# dataset reading\n",
        "data = pd.read_csv(\"nisdataset.csv\")\n",
        "data.columns = [col.strip() for col in data.columns]\n",
        "\n",
        "#Choosing x ,y\n",
        "target_column = \"attack_detected\"\n",
        "session_ids = data['session_id']\n",
        "X = data.drop([target_column, 'session_id'], axis=1)\n",
        "y = data[target_column]\n",
        "\n",
        "# training ,testing of dataset\n",
        "X_train, X_test, y_train, y_test = train_test_split(X, y, stratify=y, test_size=0.2, random_state=42)#train-test data creation\n",
        "categorical_cols = X.select_dtypes(include='object').columns.tolist()\n",
        "numerical_cols = X.select_dtypes(exclude='object').columns.tolist()\n",
        "\n",
        "preprocessor = ColumnTransformer(\n",
        "    transformers=[\n",
        "        (\"num\", StandardScaler(), numerical_cols),\n",
        "        (\"cat\", OneHotEncoder(handle_unknown='ignore'), categorical_cols)\n",
        "    ]\n",
        ")\n",
        "#creating pipelines for each model\n",
        "models = {\n",
        "    \"SVM\": Pipeline(steps=[\n",
        "        (\"preprocessor\", preprocessor),\n",
        "        (\"classifier\", SVC(probability=True))\n",
        "    ]),\n",
        "    \"Decision Tree\": Pipeline(steps=[\n",
        "        (\"preprocessor\", preprocessor),\n",
        "        (\"classifier\", DecisionTreeClassifier())\n",
        "    ]),\n",
        "    \"Random Forest\": Pipeline(steps=[\n",
        "        (\"preprocessor\", preprocessor),\n",
        "        (\"classifier\", RandomForestClassifier())\n",
        "    ])\n",
        "}\n",
        "\n",
        "metrics = {\"Model\": [], \"Accuracy\": [], \"Precision\": [], \"Recall\": [], \"F1\": []}\n",
        "best_model = None\n",
        "best_model_name = \"\"\n",
        "best_accuracy = 0.0\n",
        "\n",
        "for name, pipeline in models.items():\n",
        "    pipeline.fit(X_train, y_train)\n",
        "    y_pred = pipeline.predict(X_test)\n",
        "\n",
        "    acc = accuracy_score(y_test, y_pred)\n",
        "    precision = precision_score(y_test, y_pred, average='weighted', zero_division=0)\n",
        "    recall = recall_score(y_test, y_pred, average='weighted', zero_division=0)\n",
        "    f1 = f1_score(y_test, y_pred, average='weighted', zero_division=0)\n",
        "# initaliztion measueres\n",
        "    metrics[\"Model\"].append(name)\n",
        "    metrics[\"Accuracy\"].append(acc)\n",
        "    metrics[\"Precision\"].append(precision)\n",
        "    metrics[\"Recall\"].append(recall)\n",
        "    metrics[\"F1\"].append(f1)\n",
        "\n",
        "    if acc > best_accuracy:\n",
        "        best_accuracy = acc\n",
        "        best_model = pipeline\n",
        "        best_model_name = name\n",
        "\n",
        "joblib.dump(best_model, \"fraud_detection_model.pkl\") #The best model will be saved here\n",
        "\n",
        "df_metrics = pd.DataFrame(metrics)\n",
        "df_metrics[\"Highlight\"] = df_metrics[\"Model\"].apply(lambda x: \"Saved Model\" if x == best_model_name else \"Others\")\n",
        "\n",
        "print(f\"\\nSaved best model: {best_model_name} with Accuracy = {best_accuracy:.2f}\")\n",
        "#plotting graph for checking accruacy for all the algorithm used\n",
        "plt.figure(figsize=(8, 4))\n",
        "sns.barplot(x=\"Model\", y=\"Accuracy\", hue=\"Highlight\", data=df_metrics, palette={\"Saved Model\": \"green\", \"Others\": \"grey\"})\n",
        "plt.title(\" Accuracy Comparison (Best Model Highlighted)\")\n",
        "plt.ylim(0, 1)\n",
        "plt.tight_layout()\n",
        "plt.show()\n"
      ],
      "metadata": {
        "id": "AYmTDtis_pU-",
        "colab": {
          "base_uri": "https://localhost:8080/",
          "height": 535
        },
        "outputId": "b9dec613-c004-420e-fe13-e1b34dfc3c65"
      },
      "execution_count": null,
      "outputs": [
        {
          "output_type": "stream",
          "name": "stdout",
          "text": [
            "\n",
            "✅ Saved best model: Random Forest with Accuracy = 0.88\n"
          ]
        },
        {
          "output_type": "stream",
          "name": "stderr",
          "text": [
            "<ipython-input-2-d045e8ebc50b>:93: UserWarning: Glyph 128269 (\\N{LEFT-POINTING MAGNIFYING GLASS}) missing from font(s) DejaVu Sans.\n",
            "  plt.tight_layout()\n",
            "/usr/local/lib/python3.11/dist-packages/IPython/core/pylabtools.py:151: UserWarning: Glyph 128269 (\\N{LEFT-POINTING MAGNIFYING GLASS}) missing from font(s) DejaVu Sans.\n",
            "  fig.canvas.print_figure(bytes_io, **kw)\n"
          ]
        },
        {
          "output_type": "display_data",
          "data": {
            "text/plain": [
              "<Figure size 800x400 with 1 Axes>"
            ],
            "image/png": "[encoded data removed]"
          },
          "metadata": {}
        }
      ]
    },
    {
      "cell_type": "markdown",
      "source": [
        "### Detecting the fraud using input before preprocessing and cleaning"
      ],
      "metadata": {
        "id": "97mawB1h8-cF"
      }
    },
    {
      "cell_type": "code",
      "source": [
        "import numpy as np\n",
        "import pandas as pd\n",
        "import joblib  # For loading the model pipeline\n",
        "import matplotlib.pyplot as plt\n",
        "\n",
        "# trained pipeline include preprocessing + model\n",
        "model_pipeline = joblib.load('fraud_detection_model.pkl')\n",
        "\n",
        "# Define function to clean, encode, and predict fraud\n",
        "def predict_fraud():\n",
        "    print(\"\\n Enter Login Details \")\n",
        "\n",
        "    # Get manual input\n",
        "    login_time = float(input(\"Enter time: \"))\n",
        "    failed_logins = int(input(\"failed login attempts: \"))\n",
        "    ip_risk_score = float(input(\"Enter IP reputation score: \"))\n",
        "    browser = input(\"browser type: \")\n",
        "    network_packet_size = int(input(\"network packet size: \"))\n",
        "    protocol_type = input(\"protocol type: \")\n",
        "    login_attempts = int(input(\"total login attempts: \"))\n",
        "    session_duration = float(input(\"session duration (in seconds): \"))\n",
        "    encryption_used = input(\"Enter encryption used: \")\n",
        "\n",
        "    # Raw dictionary\n",
        "    input_data = {\n",
        "        \"unusual_time_access\": login_time,\n",
        "        \"failed_logins\": failed_logins,\n",
        "        \"ip_reputation_score\": ip_risk_score,\n",
        "        \"browser_type\": browser,\n",
        "        \"network_packet_size\": network_packet_size,\n",
        "        \"protocol_type\": protocol_type,\n",
        "        \"login_attempts\": login_attempts,\n",
        "        \"session_duration\": session_duration,\n",
        "        \"encryption_used\": encryption_used\n",
        "    }\n",
        "\n",
        "    input_df = pd.DataFrame([input_data])\n",
        "\n",
        "    #  Optional Cleaning (in case pipeline doesn't cover):\n",
        "    # Fill missing (if user left anything blank)\n",
        "    input_df.fillna({\n",
        "        \"unusual_time_access\": input_df[\"unusual_time_access\"].mean(),\n",
        "        \"failed_logins\": 0,\n",
        "        \"ip_reputation_score\": 0.5,\n",
        "        \"browser_type\": \"unknown\",\n",
        "        \"network_packet_size\": 0,\n",
        "        \"protocol_type\": \"TCP\",\n",
        "        \"login_attempts\": 1,\n",
        "        \"session_duration\": input_df[\"session_duration\"].mean(),\n",
        "        \"encryption_used\": \"None\"\n",
        "    }, inplace=True)\n",
        "\n",
        "    #  (Optional) Handle categorical inputs - skip if pipeline handles it\n",
        "    # from sklearn.preprocessing import LabelEncoder\n",
        "    # label_cols = [\"browser_type\", \"protocol_type\", \"encryption_used\"]\n",
        "    # for col in label_cols:\n",
        "    #     input_df[col] = LabelEncoder().fit_transform(input_df[col])  # only if pipeline needs\n",
        "\n",
        "    #  Predict using the pipeline\n",
        "    prediction = model_pipeline.predict(input_df)\n",
        "    prediction_proba = model_pipeline.predict_proba(input_df)[:, 1]\n",
        "\n",
        "    #  Output result\n",
        "    if prediction[0] == 1:\n",
        "        print(\"\\n Alert: Suspicious Login Detected!\")\n",
        "    else:\n",
        "        print(\"\\n Login is Safe.\")\n",
        "\n",
        "    print(f\"Fraud Probability: {prediction_proba[0]:.2f}\")\n",
        "\n",
        "    #  Bar chart for fraud probability\n",
        "    plt.figure(figsize=(6, 1.5))\n",
        "    plt.barh([\"Fraud Probability\"], [prediction_proba[0]],\n",
        "             color='red' if prediction[0] == 1 else 'green')\n",
        "    plt.xlim(0, 1)\n",
        "    plt.xlabel(\"Probability\")\n",
        "    plt.title(\" Fraud Detection Probability\")\n",
        "    plt.grid(axis='x', linestyle='--', alpha=0.6)\n",
        "    plt.tight_layout()\n",
        "    plt.show()\n",
        "\n",
        "# Run prediction function\n",
        "predict_fraud()"
      ],
      "metadata": {
        "id": "v2rmDJNw82Gd",
        "colab": {
          "base_uri": "https://localhost:8080/",
          "height": 500
        },
        "outputId": "7f0b7575-0d0b-4aab-b047-b9b89bee9c93"
      },
      "execution_count": null,
      "outputs": [
        {
          "output_type": "stream",
          "name": "stdout",
          "text": [
            "\n",
            "🔹 Enter Login Details 🔹\n",
            "Enter login time (e.g., 13.5 for 1:30 PM): 13.5\n",
            "Enter number of failed login attempts: 2\n",
            "Enter IP reputation score (0-1): 0.3\n",
            "Enter browser type (e.g., Chrome, Firefox): Chrome\n",
            "Enter network packet size: 678\n",
            "Enter protocol type (e.g., TCP, UDP): TCP\n",
            "Enter total login attempts: 3\n",
            "Enter session duration (in seconds): 456.67\n",
            "Enter encryption used (e.g., SSL, TLS): SSL\n",
            "\n",
            "✅ Login is Safe.\n",
            "Fraud Probability: 0.10\n"
          ]
        },
        {
          "output_type": "stream",
          "name": "stderr",
          "text": [
            "<ipython-input-3-7e7822b78657>:82: UserWarning: Glyph 128269 (\\N{LEFT-POINTING MAGNIFYING GLASS}) missing from font(s) DejaVu Sans.\n",
            "  plt.tight_layout()\n",
            "/usr/local/lib/python3.11/dist-packages/IPython/core/pylabtools.py:151: UserWarning: Glyph 128269 (\\N{LEFT-POINTING MAGNIFYING GLASS}) missing from font(s) DejaVu Sans.\n",
            "  fig.canvas.print_figure(bytes_io, **kw)\n"
          ]
        },
        {
          "output_type": "display_data",
          "data": {
            "text/plain": [
              "<Figure size 600x150 with 1 Axes>"
            ],
            "image/png": "[encoded data removed]"
          },
          "metadata": {}
        }
      ]
    },
    {
      "cell_type": "markdown",
      "source": [
        "# **Find Null & Noise Values**"
      ],
      "metadata": {
        "id": "2dvWDFvt_4wd"
      }
    },
    {
      "cell_type": "code",
      "source": [
        "import pandas as pd\n",
        "\n",
        "# dataset\n",
        "data = pd.read_csv(\"nisdataset.csv\")\n",
        "\n",
        "#  Strip column names of extra spaces\n",
        "data.columns = [col.strip() for col in data.columns]\n",
        "\n",
        "#  Count null values in each column\n",
        "print(\"\\n Null Value Count:\")\n",
        "print(data.isnull().sum())\n",
        "\n",
        "# unique values in categorical\n",
        "for col in data.select_dtypes(include='object').columns:\n",
        "    print(f\"\\n Unique values in '{col}':\")\n",
        "    print(data[col].value_counts())\n"
      ],
      "metadata": {
        "id": "EFynX376_7MM",
        "colab": {
          "base_uri": "https://localhost:8080/"
        },
        "outputId": "66e03b20-f63a-4e2b-a660-62b120b08876"
      },
      "execution_count": null,
      "outputs": [
        {
          "output_type": "stream",
          "name": "stdout",
          "text": [
            "\n",
            "📊 Null Value Count:\n",
            "session_id                0\n",
            "network_packet_size       0\n",
            "protocol_type             0\n",
            "login_attempts            0\n",
            "session_duration          0\n",
            "encryption_used        1966\n",
            "ip_reputation_score       0\n",
            "failed_logins             0\n",
            "browser_type              0\n",
            "unusual_time_access       0\n",
            "attack_detected           0\n",
            "dtype: int64\n",
            "\n",
            "🧹 Unique values in 'session_id':\n",
            "session_id\n",
            "SID_09537    1\n",
            "SID_09498    1\n",
            "SID_09499    1\n",
            "SID_09500    1\n",
            "SID_09501    1\n",
            "            ..\n",
            "SID_00005    1\n",
            "SID_00006    1\n",
            "SID_00007    1\n",
            "SID_00008    1\n",
            "SID_00009    1\n",
            "Name: count, Length: 9537, dtype: int64\n",
            "\n",
            "🧹 Unique values in 'protocol_type':\n",
            "protocol_type\n",
            "TCP     6624\n",
            "UDP     2406\n",
            "ICMP     507\n",
            "Name: count, dtype: int64\n",
            "\n",
            "🧹 Unique values in 'encryption_used':\n",
            "encryption_used\n",
            "AES    4706\n",
            "DES    2865\n",
            "Name: count, dtype: int64\n",
            "\n",
            "🧹 Unique values in 'browser_type':\n",
            "browser_type\n",
            "Chrome     5137\n",
            "Firefox    1944\n",
            "Edge       1469\n",
            "Unknown     502\n",
            "Safari      485\n",
            "Name: count, dtype: int64\n"
          ]
        }
      ]
    },
    {
      "cell_type": "markdown",
      "source": [
        "# **Separate Train-Test + Preprocess Properly**"
      ],
      "metadata": {
        "id": "5KAPrE_uABqh"
      }
    },
    {
      "cell_type": "code",
      "source": [
        "import pandas as pd\n",
        "from sklearn.preprocessing import LabelEncoder\n",
        "\n",
        "#  Dataset\n",
        "data = pd.read_csv(\"nisdataset.csv\")\n",
        "\n",
        "#  Value Handling\n",
        "print(\"\\n Null Value Count (Before Cleaning):\")\n",
        "print(data.isnull().sum())\n",
        "\n",
        "# Drop rows with any null values\n",
        "data_cleaned = data.dropna()\n",
        "\n",
        "print(\"\\n Null values removed. New shape:\", data_cleaned.shape)\n",
        "\n",
        "# Detecting Noise in Object Columns\n",
        "print(\"\\n Unique Values in Categorical Columns:\")\n",
        "for col in data_cleaned.select_dtypes(include='object').columns:\n",
        "    print(f\"\\n Column: '{col}'\")\n",
        "    print(data_cleaned[col].value_counts())\n",
        "\n",
        "#Encode Categorical Columns\n",
        "le = LabelEncoder()\n",
        "for col in data_cleaned.columns:\n",
        "    if data_cleaned[col].dtype == 'object':\n",
        "        data_cleaned[col] = le.fit_transform(data_cleaned[col].astype(str))\n",
        "\n",
        "print(\"\\n Preprocessing complete. Dataset is ready for model training.\")\n"
      ],
      "metadata": {
        "id": "SUD6TaNWAMvc",
        "colab": {
          "base_uri": "https://localhost:8080/"
        },
        "outputId": "f7460874-a0ab-4a34-bda1-e0d9032cce9b"
      },
      "execution_count": null,
      "outputs": [
        {
          "output_type": "stream",
          "name": "stdout",
          "text": [
            "\n",
            "📊 Null Value Count (Before Cleaning):\n",
            "session_id                0\n",
            "network_packet_size       0\n",
            "protocol_type             0\n",
            "login_attempts            0\n",
            "session_duration          0\n",
            "encryption_used        1966\n",
            "ip_reputation_score       0\n",
            "failed_logins             0\n",
            "browser_type              0\n",
            "unusual_time_access       0\n",
            "attack_detected           0\n",
            "dtype: int64\n",
            "\n",
            "✅ Null values removed. New shape: (7571, 11)\n",
            "\n",
            "🧹 Unique Values in Categorical Columns:\n",
            "\n",
            "🔸 Column: 'session_id'\n",
            "session_id\n",
            "SID_09536    1\n",
            "SID_00001    1\n",
            "SID_00002    1\n",
            "SID_00003    1\n",
            "SID_00004    1\n",
            "            ..\n",
            "SID_00030    1\n",
            "SID_00031    1\n",
            "SID_00032    1\n",
            "SID_00034    1\n",
            "SID_00036    1\n",
            "Name: count, Length: 7571, dtype: int64\n",
            "\n",
            "🔸 Column: 'protocol_type'\n",
            "protocol_type\n",
            "TCP     5235\n",
            "UDP     1941\n",
            "ICMP     395\n",
            "Name: count, dtype: int64\n",
            "\n",
            "🔸 Column: 'encryption_used'\n",
            "encryption_used\n",
            "AES    4706\n",
            "DES    2865\n",
            "Name: count, dtype: int64\n",
            "\n",
            "🔸 Column: 'browser_type'\n",
            "browser_type\n",
            "Chrome     4082\n",
            "Firefox    1527\n",
            "Edge       1183\n",
            "Unknown     397\n",
            "Safari      382\n",
            "Name: count, dtype: int64\n",
            "\n",
            "✅ Preprocessing complete. Dataset is ready for model training.\n"
          ]
        },
        {
          "output_type": "stream",
          "name": "stderr",
          "text": [
            "<ipython-input-42-8edf1584d67f>:26: SettingWithCopyWarning: \n",
            "A value is trying to be set on a copy of a slice from a DataFrame.\n",
            "Try using .loc[row_indexer,col_indexer] = value instead\n",
            "\n",
            "See the caveats in the documentation: https://pandas.pydata.org/pandas-docs/stable/user_guide/indexing.html#returning-a-view-versus-a-copy\n",
            "  data_cleaned[col] = le.fit_transform(data_cleaned[col].astype(str))\n",
            "<ipython-input-42-8edf1584d67f>:26: SettingWithCopyWarning: \n",
            "A value is trying to be set on a copy of a slice from a DataFrame.\n",
            "Try using .loc[row_indexer,col_indexer] = value instead\n",
            "\n",
            "See the caveats in the documentation: https://pandas.pydata.org/pandas-docs/stable/user_guide/indexing.html#returning-a-view-versus-a-copy\n",
            "  data_cleaned[col] = le.fit_transform(data_cleaned[col].astype(str))\n",
            "<ipython-input-42-8edf1584d67f>:26: SettingWithCopyWarning: \n",
            "A value is trying to be set on a copy of a slice from a DataFrame.\n",
            "Try using .loc[row_indexer,col_indexer] = value instead\n",
            "\n",
            "See the caveats in the documentation: https://pandas.pydata.org/pandas-docs/stable/user_guide/indexing.html#returning-a-view-versus-a-copy\n",
            "  data_cleaned[col] = le.fit_transform(data_cleaned[col].astype(str))\n",
            "<ipython-input-42-8edf1584d67f>:26: SettingWithCopyWarning: \n",
            "A value is trying to be set on a copy of a slice from a DataFrame.\n",
            "Try using .loc[row_indexer,col_indexer] = value instead\n",
            "\n",
            "See the caveats in the documentation: https://pandas.pydata.org/pandas-docs/stable/user_guide/indexing.html#returning-a-view-versus-a-copy\n",
            "  data_cleaned[col] = le.fit_transform(data_cleaned[col].astype(str))\n"
          ]
        }
      ]
    },
    {
      "cell_type": "markdown",
      "source": [
        "Spliting of data  "
      ],
      "metadata": {
        "id": "aTO37mG7ReZQ"
      }
    },
    {
      "cell_type": "code",
      "source": [
        "from sklearn.model_selection import train_test_split\n",
        "\n",
        "# 'data_cleaned' is the cleaned\n",
        "# and 'attack_detected' is the target column\n",
        "\n",
        "target_column = \"attack_detected\"\n",
        "X = data_cleaned.drop(target_column, axis=1)\n",
        "y = data_cleaned[target_column]\n",
        "\n",
        "# Split into Train and Test sets (80-20)\n",
        "X_train, X_test, y_train, y_test = train_test_split(\n",
        "    X, y, stratify=y, test_size=0.2, random_state=42\n",
        ")\n",
        "\n",
        "print(\"\\n Data split complete.\")\n",
        "print(\"Training Set Size:\", X_train.shape)\n",
        "print(\"Testing Set Size:\", X_test.shape)\n"
      ],
      "metadata": {
        "colab": {
          "base_uri": "https://localhost:8080/"
        },
        "id": "DiZMN7CURqSW",
        "outputId": "8de1ba3e-b95a-4167-a52d-d4230adf3e92"
      },
      "execution_count": null,
      "outputs": [
        {
          "output_type": "stream",
          "name": "stdout",
          "text": [
            "\n",
            "✅ Data split complete.\n",
            "Training Set Size: (6056, 10)\n",
            "Testing Set Size: (1515, 10)\n"
          ]
        }
      ]
    },
    {
      "cell_type": "markdown",
      "source": [
        "# **Testing on Clean Data**"
      ],
      "metadata": {
        "id": "f5LD7-E3AObq"
      }
    },
    {
      "cell_type": "code",
      "source": [
        "import pandas as pd\n",
        "import joblib\n",
        "from sklearn.model_selection import train_test_split\n",
        "from sklearn.preprocessing import OneHotEncoder, StandardScaler\n",
        "from sklearn.compose import ColumnTransformer\n",
        "from sklearn.pipeline import Pipeline\n",
        "from sklearn.svm import SVC\n",
        "from sklearn.tree import DecisionTreeClassifier\n",
        "from sklearn.ensemble import RandomForestClassifier\n",
        "from sklearn.metrics import accuracy_score, precision_score, recall_score, f1_score\n",
        "\n",
        "\n",
        "data = pd.read_csv(\"nisdataset.csv\")\n",
        "data.columns = [col.strip() for col in data.columns]\n",
        "if 'session_id' not in data.columns:\n",
        "    data['session_id'] = [f\"session_{i}\" for i in range(len(data))]\n",
        "data = data.dropna()\n",
        "\n",
        "target_column = \"attack_detected\"\n",
        "X = data.drop([target_column, 'session_id'], axis=1)\n",
        "y = data[target_column]\n",
        "\n",
        "#  Train/Test split\n",
        "X_train, X_test, y_train, y_test = train_test_split(X, y, stratify=y, test_size=0.2, random_state=42)\n",
        "\n",
        "#  Identify feature types\n",
        "categorical_cols = X.select_dtypes(include='object').columns.tolist()\n",
        "numerical_cols = X.select_dtypes(exclude='object').columns.tolist()\n",
        "\n",
        "#  Preprocessor\n",
        "preprocessor = ColumnTransformer([\n",
        "    (\"num\", StandardScaler(), numerical_cols),\n",
        "    (\"cat\", OneHotEncoder(handle_unknown='ignore'), categorical_cols)\n",
        "])\n",
        "\n",
        "#  Models\n",
        "models = {\n",
        "    \"SVM\": SVC(probability=True),\n",
        "    \"Decision Tree\": DecisionTreeClassifier(),\n",
        "    \"Random Forest\": RandomForestClassifier()\n",
        "}\n",
        "\n",
        "#  Store best\n",
        "best_pipeline = None\n",
        "best_model_name = \"\"\n",
        "best_accuracy = 0.0\n",
        "\n",
        "# Train & Evaluate all models\n",
        "for name, clf in models.items():\n",
        "    pipeline = Pipeline([\n",
        "        (\"preprocessor\", preprocessor),\n",
        "        (\"classifier\", clf)\n",
        "    ])\n",
        "\n",
        "    pipeline.fit(X_train, y_train)\n",
        "    y_pred = pipeline.predict(X_test)\n",
        "\n",
        "    acc = accuracy_score(y_test, y_pred)\n",
        "    precision = precision_score(y_test, y_pred, average='weighted', zero_division=0)\n",
        "    recall = recall_score(y_test, y_pred, average='weighted', zero_division=0)\n",
        "    f1 = f1_score(y_test, y_pred, average='weighted', zero_division=0)\n",
        "\n",
        "    print(f\"\\n {name} Performance:\")\n",
        "    print(\"Accuracy :\", acc)\n",
        "    print(\"Precision:\", precision)\n",
        "    print(\"Recall   :\", recall)\n",
        "    print(\"F1 Score :\", f1)\n",
        "\n",
        "    if acc > best_accuracy:\n",
        "        best_accuracy = acc\n",
        "        best_pipeline = pipeline\n",
        "        best_model_name = name\n",
        "\n",
        "\n",
        "joblib.dump(best_pipeline, \"best_fraud_pipeline.pkl\")\n",
        "print(f\"\\n Best Model: {best_model_name} (Accuracy: {best_accuracy:.2f})\")\n",
        "print(\" Saved as: best_fraud_pipeline.pkl\")\n"
      ],
      "metadata": {
        "id": "v3fpBuaZAFk0",
        "colab": {
          "base_uri": "https://localhost:8080/"
        },
        "outputId": "9e408e62-e5e8-4cb3-9131-925578a02319"
      },
      "execution_count": null,
      "outputs": [
        {
          "output_type": "stream",
          "name": "stdout",
          "text": [
            "\n",
            "📊 SVM Performance:\n",
            "Accuracy : 0.8739273927392739\n",
            "Precision: 0.8848438315251682\n",
            "Recall   : 0.8739273927392739\n",
            "F1 Score : 0.8714397617748663\n",
            "\n",
            "📊 Decision Tree Performance:\n",
            "Accuracy : 0.8224422442244225\n",
            "Precision: 0.8231593594142024\n",
            "Recall   : 0.8224422442244225\n",
            "F1 Score : 0.8226709617832784\n",
            "\n",
            "📊 Random Forest Performance:\n",
            "Accuracy : 0.8904290429042905\n",
            "Precision: 0.9069549577422872\n",
            "Recall   : 0.8904290429042905\n",
            "F1 Score : 0.8877564043568968\n",
            "\n",
            "✅ Best Model: Random Forest (Accuracy: 0.89)\n",
            "🚀 Saved as: best_fraud_pipeline.pkl\n"
          ]
        }
      ]
    },
    {
      "cell_type": "markdown",
      "source": [
        "# **Giving Input for Fraud Detection**"
      ],
      "metadata": {
        "id": "4_E1n1eIAGFZ"
      }
    },
    {
      "cell_type": "code",
      "source": [
        "import numpy as np\n",
        "import pandas as pd\n",
        "import joblib  # For loading the model pipeline\n",
        "import matplotlib.pyplot as plt\n",
        "\n",
        "# Load the trained pipeline (should include preprocessing + model)\n",
        "model_pipeline = joblib.load('best_fraud_pipeline.pkl')\n",
        "\n",
        "# Optional: Load column names or categories if needed (if pipeline doesn't handle)\n",
        "# example: categories = joblib.load('categories.pkl')  # if you saved label mappings\n",
        "\n",
        "# Define function to clean, encode, and predict fraud\n",
        "def predict_fraud():\n",
        "    print(\"\\n🔹 Enter Login Details 🔹\")\n",
        "\n",
        "    # Get manual input\n",
        "    login_time = float(input(\"Enter login time (e.g., 13.5 for 1:30 PM): \"))\n",
        "    failed_logins = int(input(\"Enter number of failed login attempts: \"))\n",
        "    ip_risk_score = float(input(\"Enter IP reputation score (0-1): \"))\n",
        "    browser = input(\"Enter browser type (e.g., Chrome, Firefox): \")\n",
        "    network_packet_size = int(input(\"Enter network packet size: \"))\n",
        "    protocol_type = input(\"Enter protocol type (e.g., TCP, UDP): \")\n",
        "    login_attempts = int(input(\"Enter total login attempts: \"))\n",
        "    session_duration = float(input(\"Enter session duration (in seconds): \"))\n",
        "    encryption_used = input(\"Enter encryption used (e.g., SSL, TLS): \")\n",
        "\n",
        "    # Raw dictionary\n",
        "    input_data = {\n",
        "        \"unusual_time_access\": login_time,\n",
        "        \"failed_logins\": failed_logins,\n",
        "        \"ip_reputation_score\": ip_risk_score,\n",
        "        \"browser_type\": browser,\n",
        "        \"network_packet_size\": network_packet_size,\n",
        "        \"protocol_type\": protocol_type,\n",
        "        \"login_attempts\": login_attempts,\n",
        "        \"session_duration\": session_duration,\n",
        "        \"encryption_used\": encryption_used\n",
        "    }\n",
        "\n",
        "    input_df = pd.DataFrame([input_data])\n",
        "\n",
        "    #  Optional Cleaning (in case pipeline doesn't cover):\n",
        "    # Fill missing (if user left anything blank)\n",
        "    input_df.fillna({\n",
        "        \"unusual_time_access\": input_df[\"unusual_time_access\"].mean(),\n",
        "        \"failed_logins\": 0,\n",
        "        \"ip_reputation_score\": 0.5,\n",
        "        \"browser_type\": \"unknown\",\n",
        "        \"network_packet_size\": 0,\n",
        "        \"protocol_type\": \"TCP\",\n",
        "        \"login_attempts\": 1,\n",
        "        \"session_duration\": input_df[\"session_duration\"].mean(),\n",
        "        \"encryption_used\": \"None\"\n",
        "    }, inplace=True)\n",
        "\n",
        "    #  (Optional) Handle categorical inputs - skip if pipeline handles it\n",
        "    # from sklearn.preprocessing import LabelEncoder\n",
        "    # label_cols = [\"browser_type\", \"protocol_type\", \"encryption_used\"]\n",
        "    # for col in label_cols:\n",
        "    #     input_df[col] = LabelEncoder().fit_transform(input_df[col])  # only if pipeline needs\n",
        "\n",
        "    #  Predict using the pipeline\n",
        "    prediction = model_pipeline.predict(input_df)\n",
        "    prediction_proba = model_pipeline.predict_proba(input_df)[:, 1]\n",
        "\n",
        "    #  Output result\n",
        "    if prediction[0] == 1:\n",
        "        print(\"\\n🚨 Alert: Suspicious Login Detected!\")\n",
        "    else:\n",
        "        print(\"\\n Login is Safe.\")\n",
        "\n",
        "    print(f\"Fraud Probability: {prediction_proba[0]:.2f}\")\n",
        "\n",
        "    # Bar chart for fraud probability\n",
        "    plt.figure(figsize=(6, 1.5))\n",
        "    plt.barh([\"Fraud Probability\"], [prediction_proba[0]],\n",
        "             color='red' if prediction[0] == 1 else 'green')\n",
        "    plt.xlim(0, 1)\n",
        "    plt.xlabel(\"Probability\")\n",
        "    plt.title(\"🔍 Fraud Detection Probability\")\n",
        "    plt.grid(axis='x', linestyle='--', alpha=0.6)\n",
        "    plt.tight_layout()\n",
        "    plt.show()\n",
        "\n",
        "# Run prediction function\n",
        "predict_fraud()\n"
      ],
      "metadata": {
        "id": "t3QCvk6MAcLY",
        "colab": {
          "base_uri": "https://localhost:8080/",
          "height": 500
        },
        "outputId": "2f5616b8-615b-4d84-83e1-fcef8881c147"
      },
      "execution_count": null,
      "outputs": [
        {
          "output_type": "stream",
          "name": "stdout",
          "text": [
            "\n",
            "🔹 Enter Login Details 🔹\n",
            "Enter login time (e.g., 13.5 for 1:30 PM): 13.5\n",
            "Enter number of failed login attempts: 2\n",
            "Enter IP reputation score (0-1): 0.4\n",
            "Enter browser type (e.g., Chrome, Firefox): Chrome\n",
            "Enter network packet size: 675\n",
            "Enter protocol type (e.g., TCP, UDP): TCP\n",
            "Enter total login attempts: 3\n",
            "Enter session duration (in seconds): 1234.75\n",
            "Enter encryption used (e.g., SSL, TLS): SSL\n",
            "\n",
            "✅ Login is Safe.\n",
            "Fraud Probability: 0.13\n"
          ]
        },
        {
          "output_type": "stream",
          "name": "stderr",
          "text": [
            "<ipython-input-46-838bd1a9d305>:82: UserWarning: Glyph 128269 (\\N{LEFT-POINTING MAGNIFYING GLASS}) missing from font(s) DejaVu Sans.\n",
            "  plt.tight_layout()\n",
            "/usr/local/lib/python3.11/dist-packages/IPython/core/pylabtools.py:151: UserWarning: Glyph 128269 (\\N{LEFT-POINTING MAGNIFYING GLASS}) missing from font(s) DejaVu Sans.\n",
            "  fig.canvas.print_figure(bytes_io, **kw)\n"
          ]
        },
        {
          "output_type": "display_data",
          "data": {
            "text/plain": [
              "<Figure size 600x150 with 1 Axes>"
            ],
            "image/png": "[encoded data removed]"
          },
          "metadata": {}
        }
      ]
    }
  ],
  "metadata": {
    "colab": {
      "provenance": [],
      "gpuType": "V28",
      "include_colab_link": true
    },
    "kernelspec": {
      "display_name": "Python 3",
      "name": "python3"
    },
    "language_info": {
      "name": "python"
    },
    "accelerator": "TPU"
  },
  "nbformat": 4,
  "nbformat_minor": 0
}